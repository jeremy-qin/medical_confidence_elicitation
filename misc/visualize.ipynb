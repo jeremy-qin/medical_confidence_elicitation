{
 "cells": [
  {
   "cell_type": "code",
   "execution_count": 1,
   "metadata": {},
   "outputs": [],
   "source": [
    "import pandas as pd"
   ]
  },
  {
   "cell_type": "code",
   "execution_count": 72,
   "metadata": {},
   "outputs": [],
   "source": [
    "df = pd.read_parquet(\"results/medqa_gpt-3.5-turbo_vanilla_base_all_00:18:36.parquet\")"
   ]
  },
  {
   "cell_type": "code",
   "execution_count": 73,
   "metadata": {},
   "outputs": [
    {
     "data": {
      "text/html": [
       "<div>\n",
       "<style scoped>\n",
       "    .dataframe tbody tr th:only-of-type {\n",
       "        vertical-align: middle;\n",
       "    }\n",
       "\n",
       "    .dataframe tbody tr th {\n",
       "        vertical-align: top;\n",
       "    }\n",
       "\n",
       "    .dataframe thead th {\n",
       "        text-align: right;\n",
       "    }\n",
       "</style>\n",
       "<table border=\"1\" class=\"dataframe\">\n",
       "  <thead>\n",
       "    <tr style=\"text-align: right;\">\n",
       "      <th></th>\n",
       "      <th>Questions</th>\n",
       "      <th>Difficulty Score</th>\n",
       "      <th>Mean Difficulty Score</th>\n",
       "      <th>Correct Answers</th>\n",
       "      <th>Majority Predicted Answer</th>\n",
       "      <th>All Predicted Answers</th>\n",
       "      <th>Final Prediction</th>\n",
       "      <th>Consistency Confidence</th>\n",
       "      <th>Average Vanilla Confidence</th>\n",
       "      <th>Average Confidence</th>\n",
       "      <th>All Vanilla Confidence Scores</th>\n",
       "      <th>All Confidence Scores</th>\n",
       "      <th>Ground Truth Probability</th>\n",
       "    </tr>\n",
       "  </thead>\n",
       "  <tbody>\n",
       "    <tr>\n",
       "      <th>0</th>\n",
       "      <td>A 21-year-old sexually active male complains o...</td>\n",
       "      <td>[4]</td>\n",
       "      <td>4.0</td>\n",
       "      <td>D</td>\n",
       "      <td>D</td>\n",
       "      <td>[D]</td>\n",
       "      <td>D</td>\n",
       "      <td>1.0</td>\n",
       "      <td>1.0</td>\n",
       "      <td>1.0</td>\n",
       "      <td>[90]</td>\n",
       "      <td>[90]</td>\n",
       "      <td>1.0</td>\n",
       "    </tr>\n",
       "    <tr>\n",
       "      <th>1</th>\n",
       "      <td>A 5-year-old girl is brought to the emergency ...</td>\n",
       "      <td>[6]</td>\n",
       "      <td>6.0</td>\n",
       "      <td>A</td>\n",
       "      <td>A</td>\n",
       "      <td>[A]</td>\n",
       "      <td>A</td>\n",
       "      <td>1.0</td>\n",
       "      <td>1.0</td>\n",
       "      <td>1.0</td>\n",
       "      <td>[80]</td>\n",
       "      <td>[80]</td>\n",
       "      <td>1.0</td>\n",
       "    </tr>\n",
       "    <tr>\n",
       "      <th>2</th>\n",
       "      <td>A 40-year-old woman presents with difficulty f...</td>\n",
       "      <td>[4]</td>\n",
       "      <td>4.0</td>\n",
       "      <td>E</td>\n",
       "      <td>C</td>\n",
       "      <td>[C]</td>\n",
       "      <td>C</td>\n",
       "      <td>1.0</td>\n",
       "      <td>1.0</td>\n",
       "      <td>1.0</td>\n",
       "      <td>[90]</td>\n",
       "      <td>[90]</td>\n",
       "      <td>0.0</td>\n",
       "    </tr>\n",
       "    <tr>\n",
       "      <th>3</th>\n",
       "      <td>A 37-year-old female with a history of type II...</td>\n",
       "      <td>[4]</td>\n",
       "      <td>4.0</td>\n",
       "      <td>C</td>\n",
       "      <td>C</td>\n",
       "      <td>[C]</td>\n",
       "      <td>C</td>\n",
       "      <td>1.0</td>\n",
       "      <td>1.0</td>\n",
       "      <td>1.0</td>\n",
       "      <td>[90]</td>\n",
       "      <td>[90]</td>\n",
       "      <td>1.0</td>\n",
       "    </tr>\n",
       "    <tr>\n",
       "      <th>4</th>\n",
       "      <td>A 19-year-old boy presents with confusion and ...</td>\n",
       "      <td>[6]</td>\n",
       "      <td>6.0</td>\n",
       "      <td>A</td>\n",
       "      <td>C</td>\n",
       "      <td>[C]</td>\n",
       "      <td>C</td>\n",
       "      <td>1.0</td>\n",
       "      <td>1.0</td>\n",
       "      <td>1.0</td>\n",
       "      <td>[90]</td>\n",
       "      <td>[90]</td>\n",
       "      <td>0.0</td>\n",
       "    </tr>\n",
       "  </tbody>\n",
       "</table>\n",
       "</div>"
      ],
      "text/plain": [
       "                                           Questions Difficulty Score  \\\n",
       "0  A 21-year-old sexually active male complains o...              [4]   \n",
       "1  A 5-year-old girl is brought to the emergency ...              [6]   \n",
       "2  A 40-year-old woman presents with difficulty f...              [4]   \n",
       "3  A 37-year-old female with a history of type II...              [4]   \n",
       "4  A 19-year-old boy presents with confusion and ...              [6]   \n",
       "\n",
       "   Mean Difficulty Score Correct Answers Majority Predicted Answer  \\\n",
       "0                    4.0               D                         D   \n",
       "1                    6.0               A                         A   \n",
       "2                    4.0               E                         C   \n",
       "3                    4.0               C                         C   \n",
       "4                    6.0               A                         C   \n",
       "\n",
       "  All Predicted Answers Final Prediction  Consistency Confidence  \\\n",
       "0                   [D]                D                     1.0   \n",
       "1                   [A]                A                     1.0   \n",
       "2                   [C]                C                     1.0   \n",
       "3                   [C]                C                     1.0   \n",
       "4                   [C]                C                     1.0   \n",
       "\n",
       "   Average Vanilla Confidence  Average Confidence  \\\n",
       "0                         1.0                 1.0   \n",
       "1                         1.0                 1.0   \n",
       "2                         1.0                 1.0   \n",
       "3                         1.0                 1.0   \n",
       "4                         1.0                 1.0   \n",
       "\n",
       "  All Vanilla Confidence Scores All Confidence Scores  \\\n",
       "0                          [90]                  [90]   \n",
       "1                          [80]                  [80]   \n",
       "2                          [90]                  [90]   \n",
       "3                          [90]                  [90]   \n",
       "4                          [90]                  [90]   \n",
       "\n",
       "   Ground Truth Probability  \n",
       "0                       1.0  \n",
       "1                       1.0  \n",
       "2                       0.0  \n",
       "3                       1.0  \n",
       "4                       0.0  "
      ]
     },
     "execution_count": 73,
     "metadata": {},
     "output_type": "execute_result"
    }
   ],
   "source": [
    "df.head()"
   ]
  },
  {
   "cell_type": "code",
   "execution_count": 74,
   "metadata": {},
   "outputs": [],
   "source": [
    "df['Is Correct'] = df['Correct Answers'] == df['Final Prediction']"
   ]
  },
  {
   "cell_type": "code",
   "execution_count": 75,
   "metadata": {},
   "outputs": [
    {
     "data": {
      "text/html": [
       "<div>\n",
       "<style scoped>\n",
       "    .dataframe tbody tr th:only-of-type {\n",
       "        vertical-align: middle;\n",
       "    }\n",
       "\n",
       "    .dataframe tbody tr th {\n",
       "        vertical-align: top;\n",
       "    }\n",
       "\n",
       "    .dataframe thead th {\n",
       "        text-align: right;\n",
       "    }\n",
       "</style>\n",
       "<table border=\"1\" class=\"dataframe\">\n",
       "  <thead>\n",
       "    <tr style=\"text-align: right;\">\n",
       "      <th></th>\n",
       "      <th>Questions</th>\n",
       "      <th>Difficulty Score</th>\n",
       "      <th>Mean Difficulty Score</th>\n",
       "      <th>Correct Answers</th>\n",
       "      <th>Majority Predicted Answer</th>\n",
       "      <th>All Predicted Answers</th>\n",
       "      <th>Final Prediction</th>\n",
       "      <th>Consistency Confidence</th>\n",
       "      <th>Average Vanilla Confidence</th>\n",
       "      <th>Average Confidence</th>\n",
       "      <th>All Vanilla Confidence Scores</th>\n",
       "      <th>All Confidence Scores</th>\n",
       "      <th>Ground Truth Probability</th>\n",
       "      <th>Is Correct</th>\n",
       "    </tr>\n",
       "  </thead>\n",
       "  <tbody>\n",
       "    <tr>\n",
       "      <th>0</th>\n",
       "      <td>A 21-year-old sexually active male complains o...</td>\n",
       "      <td>[4]</td>\n",
       "      <td>4.0</td>\n",
       "      <td>D</td>\n",
       "      <td>D</td>\n",
       "      <td>[D]</td>\n",
       "      <td>D</td>\n",
       "      <td>1.0</td>\n",
       "      <td>1.0</td>\n",
       "      <td>1.0</td>\n",
       "      <td>[90]</td>\n",
       "      <td>[90]</td>\n",
       "      <td>1.0</td>\n",
       "      <td>True</td>\n",
       "    </tr>\n",
       "    <tr>\n",
       "      <th>1</th>\n",
       "      <td>A 5-year-old girl is brought to the emergency ...</td>\n",
       "      <td>[6]</td>\n",
       "      <td>6.0</td>\n",
       "      <td>A</td>\n",
       "      <td>A</td>\n",
       "      <td>[A]</td>\n",
       "      <td>A</td>\n",
       "      <td>1.0</td>\n",
       "      <td>1.0</td>\n",
       "      <td>1.0</td>\n",
       "      <td>[80]</td>\n",
       "      <td>[80]</td>\n",
       "      <td>1.0</td>\n",
       "      <td>True</td>\n",
       "    </tr>\n",
       "    <tr>\n",
       "      <th>2</th>\n",
       "      <td>A 40-year-old woman presents with difficulty f...</td>\n",
       "      <td>[4]</td>\n",
       "      <td>4.0</td>\n",
       "      <td>E</td>\n",
       "      <td>C</td>\n",
       "      <td>[C]</td>\n",
       "      <td>C</td>\n",
       "      <td>1.0</td>\n",
       "      <td>1.0</td>\n",
       "      <td>1.0</td>\n",
       "      <td>[90]</td>\n",
       "      <td>[90]</td>\n",
       "      <td>0.0</td>\n",
       "      <td>False</td>\n",
       "    </tr>\n",
       "    <tr>\n",
       "      <th>3</th>\n",
       "      <td>A 37-year-old female with a history of type II...</td>\n",
       "      <td>[4]</td>\n",
       "      <td>4.0</td>\n",
       "      <td>C</td>\n",
       "      <td>C</td>\n",
       "      <td>[C]</td>\n",
       "      <td>C</td>\n",
       "      <td>1.0</td>\n",
       "      <td>1.0</td>\n",
       "      <td>1.0</td>\n",
       "      <td>[90]</td>\n",
       "      <td>[90]</td>\n",
       "      <td>1.0</td>\n",
       "      <td>True</td>\n",
       "    </tr>\n",
       "    <tr>\n",
       "      <th>4</th>\n",
       "      <td>A 19-year-old boy presents with confusion and ...</td>\n",
       "      <td>[6]</td>\n",
       "      <td>6.0</td>\n",
       "      <td>A</td>\n",
       "      <td>C</td>\n",
       "      <td>[C]</td>\n",
       "      <td>C</td>\n",
       "      <td>1.0</td>\n",
       "      <td>1.0</td>\n",
       "      <td>1.0</td>\n",
       "      <td>[90]</td>\n",
       "      <td>[90]</td>\n",
       "      <td>0.0</td>\n",
       "      <td>False</td>\n",
       "    </tr>\n",
       "  </tbody>\n",
       "</table>\n",
       "</div>"
      ],
      "text/plain": [
       "                                           Questions Difficulty Score  \\\n",
       "0  A 21-year-old sexually active male complains o...              [4]   \n",
       "1  A 5-year-old girl is brought to the emergency ...              [6]   \n",
       "2  A 40-year-old woman presents with difficulty f...              [4]   \n",
       "3  A 37-year-old female with a history of type II...              [4]   \n",
       "4  A 19-year-old boy presents with confusion and ...              [6]   \n",
       "\n",
       "   Mean Difficulty Score Correct Answers Majority Predicted Answer  \\\n",
       "0                    4.0               D                         D   \n",
       "1                    6.0               A                         A   \n",
       "2                    4.0               E                         C   \n",
       "3                    4.0               C                         C   \n",
       "4                    6.0               A                         C   \n",
       "\n",
       "  All Predicted Answers Final Prediction  Consistency Confidence  \\\n",
       "0                   [D]                D                     1.0   \n",
       "1                   [A]                A                     1.0   \n",
       "2                   [C]                C                     1.0   \n",
       "3                   [C]                C                     1.0   \n",
       "4                   [C]                C                     1.0   \n",
       "\n",
       "   Average Vanilla Confidence  Average Confidence  \\\n",
       "0                         1.0                 1.0   \n",
       "1                         1.0                 1.0   \n",
       "2                         1.0                 1.0   \n",
       "3                         1.0                 1.0   \n",
       "4                         1.0                 1.0   \n",
       "\n",
       "  All Vanilla Confidence Scores All Confidence Scores  \\\n",
       "0                          [90]                  [90]   \n",
       "1                          [80]                  [80]   \n",
       "2                          [90]                  [90]   \n",
       "3                          [90]                  [90]   \n",
       "4                          [90]                  [90]   \n",
       "\n",
       "   Ground Truth Probability  Is Correct  \n",
       "0                       1.0        True  \n",
       "1                       1.0        True  \n",
       "2                       0.0       False  \n",
       "3                       1.0        True  \n",
       "4                       0.0       False  "
      ]
     },
     "execution_count": 75,
     "metadata": {},
     "output_type": "execute_result"
    }
   ],
   "source": [
    "df.head()"
   ]
  },
  {
   "cell_type": "code",
   "execution_count": 76,
   "metadata": {},
   "outputs": [],
   "source": [
    "from torchmetrics import CalibrationError\n",
    "import torch"
   ]
  },
  {
   "cell_type": "code",
   "execution_count": 77,
   "metadata": {},
   "outputs": [],
   "source": [
    "calibration_error = CalibrationError(n_bins=10, norm='l1', task='binary')"
   ]
  },
  {
   "cell_type": "code",
   "execution_count": 83,
   "metadata": {},
   "outputs": [],
   "source": [
    "conf = torch.tensor(df['All Confidence Scores'].apply(lambda x: x[0]).values)/100\n",
    "target = torch.tensor(df['Is Correct'].values).int()"
   ]
  },
  {
   "cell_type": "code",
   "execution_count": 84,
   "metadata": {},
   "outputs": [],
   "source": [
    "# conf = torch.tensor(df['Mean Difficulty Score'].values)"
   ]
  },
  {
   "cell_type": "code",
   "execution_count": 85,
   "metadata": {},
   "outputs": [
    {
     "data": {
      "text/plain": [
       "tensor([0.9000, 0.8000, 0.9000,  ..., 0.9000, 0.8000, 0.8000])"
      ]
     },
     "execution_count": 85,
     "metadata": {},
     "output_type": "execute_result"
    }
   ],
   "source": [
    "conf"
   ]
  },
  {
   "cell_type": "code",
   "execution_count": 86,
   "metadata": {},
   "outputs": [
    {
     "data": {
      "text/plain": [
       "tensor([1, 1, 0,  ..., 1, 1, 0], dtype=torch.int32)"
      ]
     },
     "execution_count": 86,
     "metadata": {},
     "output_type": "execute_result"
    }
   ],
   "source": [
    "target"
   ]
  },
  {
   "cell_type": "code",
   "execution_count": 87,
   "metadata": {},
   "outputs": [],
   "source": [
    "cal_error = calibration_error(conf, target)"
   ]
  },
  {
   "cell_type": "code",
   "execution_count": 88,
   "metadata": {},
   "outputs": [
    {
     "data": {
      "text/plain": [
       "tensor(0.3417)"
      ]
     },
     "execution_count": 88,
     "metadata": {},
     "output_type": "execute_result"
    }
   ],
   "source": [
    "cal_error"
   ]
  },
  {
   "cell_type": "code",
   "execution_count": 89,
   "metadata": {},
   "outputs": [],
   "source": [
    "from torchmetrics import AUROC"
   ]
  },
  {
   "cell_type": "code",
   "execution_count": 94,
   "metadata": {},
   "outputs": [],
   "source": [
    "auc = AUROC(task='binary')"
   ]
  },
  {
   "cell_type": "code",
   "execution_count": 95,
   "metadata": {},
   "outputs": [
    {
     "data": {
      "text/plain": [
       "tensor(0.5520)"
      ]
     },
     "execution_count": 95,
     "metadata": {},
     "output_type": "execute_result"
    }
   ],
   "source": [
    "auc(conf, target)"
   ]
  },
  {
   "cell_type": "code",
   "execution_count": null,
   "metadata": {},
   "outputs": [],
   "source": []
  }
 ],
 "metadata": {
  "kernelspec": {
   "display_name": "venv",
   "language": "python",
   "name": "python3"
  },
  "language_info": {
   "codemirror_mode": {
    "name": "ipython",
    "version": 3
   },
   "file_extension": ".py",
   "mimetype": "text/x-python",
   "name": "python",
   "nbconvert_exporter": "python",
   "pygments_lexer": "ipython3",
   "version": "3.12.3"
  }
 },
 "nbformat": 4,
 "nbformat_minor": 2
}
