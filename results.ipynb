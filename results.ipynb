{
 "cells": [
  {
   "cell_type": "code",
   "execution_count": 137,
   "metadata": {},
   "outputs": [],
   "source": [
    "import pandas as pd"
   ]
  },
  {
   "cell_type": "code",
   "execution_count": 240,
   "metadata": {},
   "outputs": [],
   "source": [
    "def brier_score(df, sampling):\n",
    "\n",
    "    true_answers_col = \"Correct Answers\"\n",
    "    predictions_col = \"Final Prediction\"\n",
    "\n",
    "    if sampling == \"average\":\n",
    "        confidence_col = \"Average Confidence\"\n",
    "    elif sampling == \"consistency\":\n",
    "        confidence_col = \"Consistency Confidence\"\n",
    "    elif sampling == \"base\":\n",
    "        confidence_col = \"All Confidence Scores\"\n",
    "\n",
    "    # Extract the true answers and predictions\n",
    "    true_answers = df[true_answers_col]\n",
    "    predictions = df[predictions_col]\n",
    "\n",
    "    # Ensure the DataFrame columns are not empty\n",
    "    if true_answers.empty or predictions.empty:\n",
    "        raise ValueError(\"The DataFrame columns must not be empty.\")\n",
    "\n",
    "    # Initialize lists for binary outcomes and confidence scores\n",
    "    outcomes = []\n",
    "    confidences = []\n",
    "\n",
    "    # Iterate through the DataFrame rows\n",
    "    for index, row in df.iterrows():\n",
    "        true_answer = row[true_answers_col]\n",
    "        predicted_answer = row[predictions_col]\n",
    "        if sampling == \"base\":\n",
    "            confidence = row[confidence_col][0]/100\n",
    "        else:\n",
    "            confidence = row[confidence_col]\n",
    "\n",
    "        if confidence > 1:\n",
    "            confidence = 0.5\n",
    "        # Determine the binary outcome\n",
    "        outcome = 1 if predicted_answer == true_answer else 0\n",
    "\n",
    "        # Append the outcome and confidence to the lists\n",
    "        outcomes.append(outcome)\n",
    "        confidences.append(confidence)\n",
    "\n",
    "    # # Calculate the Brier score\n",
    "    brier_score_sum = 0\n",
    "    for conf, outcome in zip(confidences, outcomes):\n",
    "        brier_score_sum += (conf - outcome) ** 2\n",
    "    brier_score = brier_score_sum / len(df)\n",
    "\n",
    "    return brier_score"
   ]
  },
  {
   "cell_type": "code",
   "execution_count": 371,
   "metadata": {},
   "outputs": [],
   "source": [
    "df = pd.read_parquet(\"results/pubmedqa_gemini_cot_base_all_20:35:15.parquet\")"
   ]
  },
  {
   "cell_type": "code",
   "execution_count": 372,
   "metadata": {},
   "outputs": [
    {
     "data": {
      "text/plain": [
       "0.37338019999999933"
      ]
     },
     "execution_count": 372,
     "metadata": {},
     "output_type": "execute_result"
    }
   ],
   "source": [
    "brier_score(df, sampling=\"base\")"
   ]
  },
  {
   "cell_type": "code",
   "execution_count": null,
   "metadata": {},
   "outputs": [],
   "source": []
  }
 ],
 "metadata": {
  "kernelspec": {
   "display_name": "venv",
   "language": "python",
   "name": "python3"
  },
  "language_info": {
   "codemirror_mode": {
    "name": "ipython",
    "version": 3
   },
   "file_extension": ".py",
   "mimetype": "text/x-python",
   "name": "python",
   "nbconvert_exporter": "python",
   "pygments_lexer": "ipython3",
   "version": "3.12.3"
  }
 },
 "nbformat": 4,
 "nbformat_minor": 2
}
